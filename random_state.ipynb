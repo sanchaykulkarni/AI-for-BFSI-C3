{
 "cells": [
  {
   "cell_type": "code",
   "execution_count": 1,
   "id": "7e341e7f",
   "metadata": {},
   "outputs": [],
   "source": [
    "#Test\n"
   ]
  },
  {
   "cell_type": "code",
   "execution_count": 2,
   "id": "155ac5ff",
   "metadata": {},
   "outputs": [
    {
     "data": {
      "text/plain": [
       "[('A', 1), ('B', 2), ('C', 3), ('D', 4), ('E', 5)]"
      ]
     },
     "execution_count": 2,
     "metadata": {},
     "output_type": "execute_result"
    }
   ],
   "source": [
    "import string\n",
    "import pandas as pd\n",
    "import numpy as np\n",
    "from sklearn.model_selection import train_test_split\n",
    "col1 = list(string.ascii_uppercase)[:5]\n",
    "col1\n",
    "col2 = list(range(6))[1:6]\n",
    "col2\n",
    "tpl = list(zip(col1, col2))\n",
    "tpl"
   ]
  },
  {
   "cell_type": "code",
   "execution_count": 3,
   "id": "80b1ef02",
   "metadata": {},
   "outputs": [],
   "source": [
    "df = pd.DataFrame(tpl, columns = ['col1', 'col2'])"
   ]
  },
  {
   "cell_type": "code",
   "execution_count": 4,
   "id": "e8b806e8",
   "metadata": {},
   "outputs": [
    {
     "data": {
      "text/html": [
       "<div>\n",
       "<style scoped>\n",
       "    .dataframe tbody tr th:only-of-type {\n",
       "        vertical-align: middle;\n",
       "    }\n",
       "\n",
       "    .dataframe tbody tr th {\n",
       "        vertical-align: top;\n",
       "    }\n",
       "\n",
       "    .dataframe thead th {\n",
       "        text-align: right;\n",
       "    }\n",
       "</style>\n",
       "<table border=\"1\" class=\"dataframe\">\n",
       "  <thead>\n",
       "    <tr style=\"text-align: right;\">\n",
       "      <th></th>\n",
       "      <th>col1</th>\n",
       "      <th>col2</th>\n",
       "    </tr>\n",
       "  </thead>\n",
       "  <tbody>\n",
       "    <tr>\n",
       "      <th>0</th>\n",
       "      <td>A</td>\n",
       "      <td>1</td>\n",
       "    </tr>\n",
       "    <tr>\n",
       "      <th>1</th>\n",
       "      <td>B</td>\n",
       "      <td>2</td>\n",
       "    </tr>\n",
       "    <tr>\n",
       "      <th>2</th>\n",
       "      <td>C</td>\n",
       "      <td>3</td>\n",
       "    </tr>\n",
       "    <tr>\n",
       "      <th>3</th>\n",
       "      <td>D</td>\n",
       "      <td>4</td>\n",
       "    </tr>\n",
       "    <tr>\n",
       "      <th>4</th>\n",
       "      <td>E</td>\n",
       "      <td>5</td>\n",
       "    </tr>\n",
       "  </tbody>\n",
       "</table>\n",
       "</div>"
      ],
      "text/plain": [
       "  col1  col2\n",
       "0    A     1\n",
       "1    B     2\n",
       "2    C     3\n",
       "3    D     4\n",
       "4    E     5"
      ]
     },
     "execution_count": 4,
     "metadata": {},
     "output_type": "execute_result"
    }
   ],
   "source": [
    "df"
   ]
  },
  {
   "cell_type": "code",
   "execution_count": 22,
   "id": "847c6436",
   "metadata": {},
   "outputs": [
    {
     "name": "stdout",
     "output_type": "stream",
     "text": [
      "  col1  col2\n",
      "0    A     1\n",
      "1    B     2\n",
      "2    C     3\n",
      "\n",
      "  col1  col2\n",
      "3    D     4\n",
      "4    E     5\n"
     ]
    }
   ],
   "source": [
    "#When shuffle=False, random_state is ignored\n",
    "#When shuffle=False, data is picked from beginning of the dataframe\n",
    "train1, test1 = train_test_split(df, test_size = 0.4, shuffle=False, random_state=None)\n",
    "print(train1)\n",
    "print('')\n",
    "print(test1)"
   ]
  },
  {
   "cell_type": "code",
   "execution_count": 10,
   "id": "700058f7",
   "metadata": {},
   "outputs": [
    {
     "name": "stdout",
     "output_type": "stream",
     "text": [
      "  col1  col2\n",
      "0    A     1\n",
      "1    B     2\n",
      "2    C     3\n",
      "\n",
      "  col1  col2\n",
      "3    D     4\n",
      "4    E     5\n"
     ]
    }
   ],
   "source": [
    "#When shuffle=False, random_state is ignored\n",
    "#When shuffle=False, data is picked from beginning of the dataframe\n",
    "train2, test2 = train_test_split(df, test_size = 0.4, shuffle=False, random_state=1)\n",
    "print(train2)\n",
    "print('')\n",
    "print(test2)"
   ]
  },
  {
   "cell_type": "code",
   "execution_count": 21,
   "id": "c8cebc07",
   "metadata": {},
   "outputs": [
    {
     "name": "stdout",
     "output_type": "stream",
     "text": [
      "  col1  col2\n",
      "2    C     3\n",
      "3    D     4\n",
      "1    B     2\n",
      "\n",
      "  col1  col2\n",
      "0    A     1\n",
      "4    E     5\n"
     ]
    }
   ],
   "source": [
    "#When shuffle=True, random_state=None, everytime different data is selected\n",
    "train3, test3 = train_test_split(df, test_size = 0.4, shuffle=True, random_state=None)\n",
    "print(train3)\n",
    "print('')\n",
    "print(test3)"
   ]
  },
  {
   "cell_type": "code",
   "execution_count": 20,
   "id": "555f9e7e",
   "metadata": {},
   "outputs": [
    {
     "name": "stdout",
     "output_type": "stream",
     "text": [
      "  col1  col2\n",
      "4    E     5\n",
      "0    A     1\n",
      "3    D     4\n",
      "\n",
      "  col1  col2\n",
      "2    C     3\n",
      "1    B     2\n"
     ]
    }
   ],
   "source": [
    "#When shuffle=True, random_state=Number, TODO\n",
    "train4, test4 = train_test_split(df, test_size = 0.4, shuffle=True, random_state=1)\n",
    "print(train4)\n",
    "print('')\n",
    "print(test4)"
   ]
  }
 ],
 "metadata": {
  "kernelspec": {
   "display_name": "Python 3",
   "language": "python",
   "name": "python3"
  },
  "language_info": {
   "codemirror_mode": {
    "name": "ipython",
    "version": 3
   },
   "file_extension": ".py",
   "mimetype": "text/x-python",
   "name": "python",
   "nbconvert_exporter": "python",
   "pygments_lexer": "ipython3",
   "version": "3.8.8"
  }
 },
 "nbformat": 4,
 "nbformat_minor": 5
}
